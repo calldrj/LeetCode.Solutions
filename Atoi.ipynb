{
 "cells": [
  {
   "cell_type": "code",
   "execution_count": 1,
   "metadata": {},
   "outputs": [],
   "source": [
    "def myAtoi(string):\n",
    "    l, r, non_digits, num, negative, k = 0, len(string) - 1, 0, 0, False, 0\n",
    "    \n",
    "    for c in string:\n",
    "        if ord(c) in range(48, 58):\n",
    "            break\n",
    "        l +=1\n",
    "        if c != ' ':\n",
    "            non_digits += 1\n",
    "            \n",
    "    if non_digits > 1 or (non_digits == 1 and string[l - 1] not in ['+', '-']):\n",
    "        return 0\n",
    "    elif non_digits == 1 and string[l - 1] == '-':\n",
    "        negative = True\n",
    "        \n",
    "    for c in string[::-1]:\n",
    "        if ord(c) in range(48, 58):\n",
    "            break\n",
    "        r -= 1\n",
    "        \n",
    "    string = string[l:r + 1]\n",
    "    \n",
    "    for c in string:\n",
    "        if ord(c) in range(48, 58):\n",
    "            num = 10 * num + ord(c) - 48\n",
    "        else:\n",
    "            break\n",
    "    \n",
    "    return max(-2**31, -num) if negative else min(2**31 - 1, num)"
   ]
  },
  {
   "cell_type": "code",
   "execution_count": 2,
   "metadata": {},
   "outputs": [
    {
     "data": {
      "text/plain": [
       "[42, -42, 4193, 0, -2147483648, 0, 0, 12345678, 0, 3]"
      ]
     },
     "execution_count": 2,
     "metadata": {},
     "output_type": "execute_result"
    }
   ],
   "source": [
    "cases = ['42', '    -42-1', '4193 with words', 'words and 987', '-91283472332', \n",
    "         '+-1', '00000-42a1234', '  0000000000012345678', '   +0 123', '3.14159']  \n",
    "[myAtoi(string) for string in cases] "
   ]
  },
  {
   "cell_type": "code",
   "execution_count": null,
   "metadata": {},
   "outputs": [],
   "source": []
  }
 ],
 "metadata": {
  "kernelspec": {
   "display_name": "Python 3",
   "language": "python",
   "name": "python3"
  },
  "language_info": {
   "codemirror_mode": {
    "name": "ipython",
    "version": 3
   },
   "file_extension": ".py",
   "mimetype": "text/x-python",
   "name": "python",
   "nbconvert_exporter": "python",
   "pygments_lexer": "ipython3",
   "version": "3.7.7"
  }
 },
 "nbformat": 4,
 "nbformat_minor": 4
}

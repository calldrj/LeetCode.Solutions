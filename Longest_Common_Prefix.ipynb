{
 "cells": [
  {
   "cell_type": "code",
   "execution_count": 1,
   "metadata": {},
   "outputs": [],
   "source": [
    "def longestCommonPrefix_1(strs):\n",
    "    if len(strs) == 0:\n",
    "        return ''\n",
    "    \n",
    "    k, stop, m = 0, False, min([len(s) for s in strs])\n",
    "    while not stop and k < m:\n",
    "        for s in strs:\n",
    "            if s[k] != strs[0][k]:\n",
    "                stop = True\n",
    "                break\n",
    "        if not stop:\n",
    "            k += 1 \n",
    "            \n",
    "    return strs[0][:k]"
   ]
  },
  {
   "cell_type": "code",
   "execution_count": 2,
   "metadata": {},
   "outputs": [],
   "source": [
    "def longestCommonPrefix_2(strs):\n",
    "    common = ''\n",
    "    for L in zip(*strs):\n",
    "        if len(set(L)) > 1:\n",
    "            break\n",
    "        common += L[0]\n",
    "        \n",
    "    return common"
   ]
  },
  {
   "cell_type": "code",
   "execution_count": 3,
   "metadata": {},
   "outputs": [
    {
     "data": {
      "text/plain": [
       "(['fl', 'c'], ['fl', 'c'])"
      ]
     },
     "execution_count": 3,
     "metadata": {},
     "output_type": "execute_result"
    }
   ],
   "source": [
    "cases = [[\"flower\",\"flow\",\"flight\"], [\"car\", \"cir\"]]\n",
    "\n",
    "[longestCommonPrefix_1(strs) for strs in cases],\\\n",
    "[longestCommonPrefix_2(strs) for strs in cases]"
   ]
  },
  {
   "cell_type": "code",
   "execution_count": null,
   "metadata": {},
   "outputs": [],
   "source": []
  }
 ],
 "metadata": {
  "kernelspec": {
   "display_name": "Python 3",
   "language": "python",
   "name": "python3"
  },
  "language_info": {
   "codemirror_mode": {
    "name": "ipython",
    "version": 3
   },
   "file_extension": ".py",
   "mimetype": "text/x-python",
   "name": "python",
   "nbconvert_exporter": "python",
   "pygments_lexer": "ipython3",
   "version": "3.7.7"
  }
 },
 "nbformat": 4,
 "nbformat_minor": 4
}
